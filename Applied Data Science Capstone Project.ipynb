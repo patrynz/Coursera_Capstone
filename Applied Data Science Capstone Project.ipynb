{
 "cells": [
  {
   "cell_type": "markdown",
   "id": "34beb7de",
   "metadata": {},
   "source": [
    "## Applied Data Science Capstone Project Notebook"
   ]
  },
  {
   "cell_type": "markdown",
   "id": "88b681dd",
   "metadata": {},
   "source": [
    "#### This notebook will be mainly used for the capstone project, working with Foursquare location data."
   ]
  },
  {
   "cell_type": "code",
   "execution_count": 1,
   "id": "c3f36d25",
   "metadata": {},
   "outputs": [],
   "source": [
    "import pandas as pd\n",
    "import numpy as np"
   ]
  },
  {
   "cell_type": "code",
   "execution_count": 2,
   "id": "9fe183a1",
   "metadata": {},
   "outputs": [
    {
     "name": "stdout",
     "output_type": "stream",
     "text": [
      "Hello Capstone Project Course!\n"
     ]
    }
   ],
   "source": [
    "print(\"Hello Capstone Project Course!\")"
   ]
  },
  {
   "cell_type": "code",
   "execution_count": null,
   "id": "d25e71d7",
   "metadata": {},
   "outputs": [],
   "source": []
  }
 ],
 "metadata": {
  "kernelspec": {
   "display_name": "Python 3",
   "language": "python",
   "name": "python3"
  },
  "language_info": {
   "codemirror_mode": {
    "name": "ipython",
    "version": 3
   },
   "file_extension": ".py",
   "mimetype": "text/x-python",
   "name": "python",
   "nbconvert_exporter": "python",
   "pygments_lexer": "ipython3",
   "version": "3.9.0"
  }
 },
 "nbformat": 4,
 "nbformat_minor": 5
}
